{
 "cells": [
  {
   "cell_type": "markdown",
   "id": "27d2f798",
   "metadata": {},
   "source": [
    "# 4. 月別売上推移、曜日別・季節別の傾向分析"
   ]
  },
  {
   "cell_type": "markdown",
   "id": "b07adea3",
   "metadata": {},
   "source": [
    "## 4.1 データの読み込み"
   ]
  },
  {
   "cell_type": "code",
   "execution_count": 1,
   "id": "71866e90",
   "metadata": {},
   "outputs": [],
   "source": [
    "import pandas as pd\n",
    "import matplotlib.pyplot as plt\n",
    "import matplotlib.font_manager as fm\n",
    "import japanize_matplotlib\n",
    "import matplotlib.ticker as mtick"
   ]
  },
  {
   "cell_type": "code",
   "execution_count": 2,
   "id": "5312063f",
   "metadata": {},
   "outputs": [],
   "source": [
    "# データ読み込み\n",
    "df = pd.read_csv(\"../data/customer_shopping_data_2022.csv\")\n",
    "\n",
    "# 「invoice_date」を日付型に変換\n",
    "df[\"invoice_date\"] = pd.to_datetime(df[\"invoice_date\"], errors=\"coerce\")"
   ]
  },
  {
   "cell_type": "code",
   "execution_count": 3,
   "id": "f7f67415",
   "metadata": {},
   "outputs": [
    {
     "data": {
      "text/html": [
       "<div>\n",
       "<style scoped>\n",
       "    .dataframe tbody tr th:only-of-type {\n",
       "        vertical-align: middle;\n",
       "    }\n",
       "\n",
       "    .dataframe tbody tr th {\n",
       "        vertical-align: top;\n",
       "    }\n",
       "\n",
       "    .dataframe thead th {\n",
       "        text-align: right;\n",
       "    }\n",
       "</style>\n",
       "<table border=\"1\" class=\"dataframe\">\n",
       "  <thead>\n",
       "    <tr style=\"text-align: right;\">\n",
       "      <th></th>\n",
       "      <th>invoice_no</th>\n",
       "      <th>customer_id</th>\n",
       "      <th>gender</th>\n",
       "      <th>age</th>\n",
       "      <th>category</th>\n",
       "      <th>quantity</th>\n",
       "      <th>price</th>\n",
       "      <th>payment_method</th>\n",
       "      <th>invoice_date</th>\n",
       "      <th>shopping_mall</th>\n",
       "      <th>total_amount</th>\n",
       "    </tr>\n",
       "  </thead>\n",
       "  <tbody>\n",
       "    <tr>\n",
       "      <th>0</th>\n",
       "      <td>I138884</td>\n",
       "      <td>C241288</td>\n",
       "      <td>Female</td>\n",
       "      <td>28</td>\n",
       "      <td>Clothing</td>\n",
       "      <td>5</td>\n",
       "      <td>1500.40</td>\n",
       "      <td>Credit Card</td>\n",
       "      <td>2022-05-08</td>\n",
       "      <td>Kanyon</td>\n",
       "      <td>7502.00</td>\n",
       "    </tr>\n",
       "    <tr>\n",
       "      <th>1</th>\n",
       "      <td>I227836</td>\n",
       "      <td>C657758</td>\n",
       "      <td>Female</td>\n",
       "      <td>28</td>\n",
       "      <td>Clothing</td>\n",
       "      <td>5</td>\n",
       "      <td>1500.40</td>\n",
       "      <td>Credit Card</td>\n",
       "      <td>2022-05-24</td>\n",
       "      <td>Forum Istanbul</td>\n",
       "      <td>7502.00</td>\n",
       "    </tr>\n",
       "    <tr>\n",
       "      <th>2</th>\n",
       "      <td>I121056</td>\n",
       "      <td>C151197</td>\n",
       "      <td>Female</td>\n",
       "      <td>49</td>\n",
       "      <td>Cosmetics</td>\n",
       "      <td>1</td>\n",
       "      <td>40.66</td>\n",
       "      <td>Cash</td>\n",
       "      <td>2022-03-13</td>\n",
       "      <td>Istinye Park</td>\n",
       "      <td>40.66</td>\n",
       "    </tr>\n",
       "    <tr>\n",
       "      <th>3</th>\n",
       "      <td>I306368</td>\n",
       "      <td>C240286</td>\n",
       "      <td>Female</td>\n",
       "      <td>36</td>\n",
       "      <td>Food &amp; Beverage</td>\n",
       "      <td>2</td>\n",
       "      <td>10.46</td>\n",
       "      <td>Cash</td>\n",
       "      <td>2022-12-25</td>\n",
       "      <td>Metrocity</td>\n",
       "      <td>20.92</td>\n",
       "    </tr>\n",
       "    <tr>\n",
       "      <th>4</th>\n",
       "      <td>I139207</td>\n",
       "      <td>C191708</td>\n",
       "      <td>Female</td>\n",
       "      <td>29</td>\n",
       "      <td>Books</td>\n",
       "      <td>1</td>\n",
       "      <td>15.15</td>\n",
       "      <td>Credit Card</td>\n",
       "      <td>2022-10-28</td>\n",
       "      <td>Emaar Square Mall</td>\n",
       "      <td>15.15</td>\n",
       "    </tr>\n",
       "  </tbody>\n",
       "</table>\n",
       "</div>"
      ],
      "text/plain": [
       "  invoice_no customer_id  gender  age         category  quantity    price  \\\n",
       "0    I138884     C241288  Female   28         Clothing         5  1500.40   \n",
       "1    I227836     C657758  Female   28         Clothing         5  1500.40   \n",
       "2    I121056     C151197  Female   49        Cosmetics         1    40.66   \n",
       "3    I306368     C240286  Female   36  Food & Beverage         2    10.46   \n",
       "4    I139207     C191708  Female   29            Books         1    15.15   \n",
       "\n",
       "  payment_method invoice_date      shopping_mall  total_amount  \n",
       "0    Credit Card   2022-05-08             Kanyon       7502.00  \n",
       "1    Credit Card   2022-05-24     Forum Istanbul       7502.00  \n",
       "2           Cash   2022-03-13       Istinye Park         40.66  \n",
       "3           Cash   2022-12-25          Metrocity         20.92  \n",
       "4    Credit Card   2022-10-28  Emaar Square Mall         15.15  "
      ]
     },
     "execution_count": 3,
     "metadata": {},
     "output_type": "execute_result"
    }
   ],
   "source": [
    "# 先頭確認\n",
    "df.head()"
   ]
  },
  {
   "cell_type": "markdown",
   "id": "8fb68c4e",
   "metadata": {},
   "source": [
    "## 4.2 データ集計準備"
   ]
  },
  {
   "cell_type": "markdown",
   "id": "2c29c0b9",
   "metadata": {},
   "source": [
    "### 4.2.1 「月」列を作成"
   ]
  },
  {
   "cell_type": "code",
   "execution_count": 12,
   "id": "5cc5aecd",
   "metadata": {},
   "outputs": [
    {
     "data": {
      "text/plain": [
       "1     3842\n",
       "2     3445\n",
       "3     3927\n",
       "4     3738\n",
       "5     3852\n",
       "6     3788\n",
       "7     3870\n",
       "8     3881\n",
       "9     3752\n",
       "10    3917\n",
       "11    3722\n",
       "12    3817\n",
       "Name: month, dtype: int64"
      ]
     },
     "execution_count": 12,
     "metadata": {},
     "output_type": "execute_result"
    }
   ],
   "source": [
    "# 月列の作成\n",
    "df[\"month\"] = df[\"invoice_date\"].dt.month\n",
    "# 確認\n",
    "df[\"month\"].value_counts().sort_index()"
   ]
  },
  {
   "cell_type": "markdown",
   "id": "25319a35",
   "metadata": {},
   "source": [
    "### 4.2.2 「曜日」列を作成"
   ]
  },
  {
   "cell_type": "code",
   "execution_count": 26,
   "id": "7757baa9",
   "metadata": {},
   "outputs": [
    {
     "data": {
      "text/plain": [
       "月    6580\n",
       "火    6473\n",
       "水    6352\n",
       "木    6496\n",
       "金    6562\n",
       "土    6622\n",
       "日    6466\n",
       "Name: weekday, dtype: int64"
      ]
     },
     "execution_count": 26,
     "metadata": {},
     "output_type": "execute_result"
    }
   ],
   "source": [
    "# 曜日列の作成\n",
    "weekday_map = {\n",
    "    0: \"月\",\n",
    "    1: \"火\",\n",
    "    2: \"水\",\n",
    "    3: \"木\",\n",
    "    4: \"金\",\n",
    "    5: \"土\",\n",
    "    6: \"日\"\n",
    "}\n",
    "df[\"weekday\"] = df[\"invoice_date\"].dt.weekday.map(weekday_map)\n",
    "# 確認\n",
    "weekday_order = [\"月\", \"火\", \"水\", \"木\", \"金\", \"土\", \"日\"]\n",
    "df[\"weekday\"].value_counts().reindex(weekday_order)"
   ]
  },
  {
   "cell_type": "markdown",
   "id": "7e72241b",
   "metadata": {},
   "source": [
    "### 4.2.3 「季節」列を作成"
   ]
  },
  {
   "cell_type": "code",
   "execution_count": 34,
   "id": "c2faac80",
   "metadata": {},
   "outputs": [
    {
     "data": {
      "text/plain": [
       "春    11517\n",
       "夏    11539\n",
       "秋    11391\n",
       "冬    11104\n",
       "Name: season, dtype: int64"
      ]
     },
     "execution_count": 34,
     "metadata": {},
     "output_type": "execute_result"
    }
   ],
   "source": [
    "# 季節列の作成\n",
    "def get_season(month):\n",
    "    if month in [3, 4, 5]:\n",
    "        return \"春\"\n",
    "    elif month in [6, 7, 8]:\n",
    "        return \"夏\"\n",
    "    elif month in [9, 10, 11]:\n",
    "        return \"秋\"\n",
    "    else:\n",
    "        return \"冬\"\n",
    "df[\"season\"] = df[\"month\"].apply(get_season)\n",
    "# 確認\n",
    "season_order = [\"春\", \"夏\", \"秋\", \"冬\"]\n",
    "df[\"season\"].value_counts().reindex(season_order)"
   ]
  },
  {
   "cell_type": "markdown",
   "id": "aab7c8bf",
   "metadata": {},
   "source": [
    "## 4.3 月別、曜日別、季節別にデータを集計"
   ]
  },
  {
   "cell_type": "markdown",
   "id": "7abe298e",
   "metadata": {},
   "source": [
    "### 4.3.1 月別に売上高と取引件数を集計"
   ]
  },
  {
   "cell_type": "code",
   "execution_count": 46,
   "id": "0df112aa",
   "metadata": {},
   "outputs": [
    {
     "data": {
      "text/html": [
       "<div>\n",
       "<style scoped>\n",
       "    .dataframe tbody tr th:only-of-type {\n",
       "        vertical-align: middle;\n",
       "    }\n",
       "\n",
       "    .dataframe tbody tr th {\n",
       "        vertical-align: top;\n",
       "    }\n",
       "\n",
       "    .dataframe thead th {\n",
       "        text-align: right;\n",
       "    }\n",
       "</style>\n",
       "<table border=\"1\" class=\"dataframe\">\n",
       "  <thead>\n",
       "    <tr style=\"text-align: right;\">\n",
       "      <th></th>\n",
       "      <th>total_sales</th>\n",
       "      <th>transaction_count</th>\n",
       "    </tr>\n",
       "    <tr>\n",
       "      <th>month</th>\n",
       "      <th></th>\n",
       "      <th></th>\n",
       "    </tr>\n",
       "  </thead>\n",
       "  <tbody>\n",
       "    <tr>\n",
       "      <th>1</th>\n",
       "      <td>9917602.79</td>\n",
       "      <td>3842</td>\n",
       "    </tr>\n",
       "    <tr>\n",
       "      <th>2</th>\n",
       "      <td>8594168.17</td>\n",
       "      <td>3445</td>\n",
       "    </tr>\n",
       "    <tr>\n",
       "      <th>3</th>\n",
       "      <td>9862725.13</td>\n",
       "      <td>3927</td>\n",
       "    </tr>\n",
       "    <tr>\n",
       "      <th>4</th>\n",
       "      <td>9616818.11</td>\n",
       "      <td>3738</td>\n",
       "    </tr>\n",
       "    <tr>\n",
       "      <th>5</th>\n",
       "      <td>9902187.05</td>\n",
       "      <td>3852</td>\n",
       "    </tr>\n",
       "    <tr>\n",
       "      <th>6</th>\n",
       "      <td>9727219.72</td>\n",
       "      <td>3788</td>\n",
       "    </tr>\n",
       "    <tr>\n",
       "      <th>7</th>\n",
       "      <td>9662190.26</td>\n",
       "      <td>3870</td>\n",
       "    </tr>\n",
       "    <tr>\n",
       "      <th>8</th>\n",
       "      <td>9408352.51</td>\n",
       "      <td>3881</td>\n",
       "    </tr>\n",
       "    <tr>\n",
       "      <th>9</th>\n",
       "      <td>9603433.46</td>\n",
       "      <td>3752</td>\n",
       "    </tr>\n",
       "    <tr>\n",
       "      <th>10</th>\n",
       "      <td>10072915.55</td>\n",
       "      <td>3917</td>\n",
       "    </tr>\n",
       "    <tr>\n",
       "      <th>11</th>\n",
       "      <td>9154271.83</td>\n",
       "      <td>3722</td>\n",
       "    </tr>\n",
       "    <tr>\n",
       "      <th>12</th>\n",
       "      <td>9914929.50</td>\n",
       "      <td>3817</td>\n",
       "    </tr>\n",
       "  </tbody>\n",
       "</table>\n",
       "</div>"
      ],
      "text/plain": [
       "       total_sales  transaction_count\n",
       "month                                \n",
       "1       9917602.79               3842\n",
       "2       8594168.17               3445\n",
       "3       9862725.13               3927\n",
       "4       9616818.11               3738\n",
       "5       9902187.05               3852\n",
       "6       9727219.72               3788\n",
       "7       9662190.26               3870\n",
       "8       9408352.51               3881\n",
       "9       9603433.46               3752\n",
       "10     10072915.55               3917\n",
       "11      9154271.83               3722\n",
       "12      9914929.50               3817"
      ]
     },
     "execution_count": 46,
     "metadata": {},
     "output_type": "execute_result"
    }
   ],
   "source": [
    "# 月別\n",
    "monthly_summary = df.groupby(\"month\").agg(\n",
    "    total_sales = (\"total_amount\", \"sum\"),\n",
    "    transaction_count = (\"invoice_no\", \"count\"))\n",
    "# 確認\n",
    "monthly_summary"
   ]
  },
  {
   "cell_type": "markdown",
   "id": "c81330b1",
   "metadata": {},
   "source": [
    "### 4.3.2 曜日別に売上高と取引件数を集計"
   ]
  },
  {
   "cell_type": "code",
   "execution_count": 37,
   "id": "afd2d3de",
   "metadata": {},
   "outputs": [
    {
     "data": {
      "text/html": [
       "<div>\n",
       "<style scoped>\n",
       "    .dataframe tbody tr th:only-of-type {\n",
       "        vertical-align: middle;\n",
       "    }\n",
       "\n",
       "    .dataframe tbody tr th {\n",
       "        vertical-align: top;\n",
       "    }\n",
       "\n",
       "    .dataframe thead th {\n",
       "        text-align: right;\n",
       "    }\n",
       "</style>\n",
       "<table border=\"1\" class=\"dataframe\">\n",
       "  <thead>\n",
       "    <tr style=\"text-align: right;\">\n",
       "      <th></th>\n",
       "      <th>total_sales</th>\n",
       "      <th>transaction_count</th>\n",
       "    </tr>\n",
       "    <tr>\n",
       "      <th>weekday</th>\n",
       "      <th></th>\n",
       "      <th></th>\n",
       "    </tr>\n",
       "  </thead>\n",
       "  <tbody>\n",
       "    <tr>\n",
       "      <th>月</th>\n",
       "      <td>17140947.58</td>\n",
       "      <td>6580</td>\n",
       "    </tr>\n",
       "    <tr>\n",
       "      <th>火</th>\n",
       "      <td>16010539.66</td>\n",
       "      <td>6473</td>\n",
       "    </tr>\n",
       "    <tr>\n",
       "      <th>水</th>\n",
       "      <td>16558151.84</td>\n",
       "      <td>6352</td>\n",
       "    </tr>\n",
       "    <tr>\n",
       "      <th>木</th>\n",
       "      <td>16547003.44</td>\n",
       "      <td>6496</td>\n",
       "    </tr>\n",
       "    <tr>\n",
       "      <th>金</th>\n",
       "      <td>16618020.88</td>\n",
       "      <td>6562</td>\n",
       "    </tr>\n",
       "    <tr>\n",
       "      <th>土</th>\n",
       "      <td>16805677.39</td>\n",
       "      <td>6622</td>\n",
       "    </tr>\n",
       "    <tr>\n",
       "      <th>日</th>\n",
       "      <td>15756473.29</td>\n",
       "      <td>6466</td>\n",
       "    </tr>\n",
       "  </tbody>\n",
       "</table>\n",
       "</div>"
      ],
      "text/plain": [
       "         total_sales  transaction_count\n",
       "weekday                                \n",
       "月        17140947.58               6580\n",
       "火        16010539.66               6473\n",
       "水        16558151.84               6352\n",
       "木        16547003.44               6496\n",
       "金        16618020.88               6562\n",
       "土        16805677.39               6622\n",
       "日        15756473.29               6466"
      ]
     },
     "execution_count": 37,
     "metadata": {},
     "output_type": "execute_result"
    }
   ],
   "source": [
    "# 曜日別\n",
    "weekday_summary = df.groupby(\"weekday\").agg(\n",
    "    total_sales = (\"total_amount\", \"sum\"),\n",
    "    transaction_count = (\"invoice_no\", \"count\")).reindex(weekday_order)\n",
    "# 確認\n",
    "weekday_summary"
   ]
  },
  {
   "cell_type": "markdown",
   "id": "ae4eb237",
   "metadata": {},
   "source": [
    "### 4.3.3 季節別に売上高と取引件数を集計"
   ]
  },
  {
   "cell_type": "code",
   "execution_count": 39,
   "id": "08278754",
   "metadata": {},
   "outputs": [
    {
     "data": {
      "text/html": [
       "<div>\n",
       "<style scoped>\n",
       "    .dataframe tbody tr th:only-of-type {\n",
       "        vertical-align: middle;\n",
       "    }\n",
       "\n",
       "    .dataframe tbody tr th {\n",
       "        vertical-align: top;\n",
       "    }\n",
       "\n",
       "    .dataframe thead th {\n",
       "        text-align: right;\n",
       "    }\n",
       "</style>\n",
       "<table border=\"1\" class=\"dataframe\">\n",
       "  <thead>\n",
       "    <tr style=\"text-align: right;\">\n",
       "      <th></th>\n",
       "      <th>total_sales</th>\n",
       "      <th>transaction_count</th>\n",
       "    </tr>\n",
       "    <tr>\n",
       "      <th>season</th>\n",
       "      <th></th>\n",
       "      <th></th>\n",
       "    </tr>\n",
       "  </thead>\n",
       "  <tbody>\n",
       "    <tr>\n",
       "      <th>春</th>\n",
       "      <td>29381730.29</td>\n",
       "      <td>11517</td>\n",
       "    </tr>\n",
       "    <tr>\n",
       "      <th>夏</th>\n",
       "      <td>28797762.49</td>\n",
       "      <td>11539</td>\n",
       "    </tr>\n",
       "    <tr>\n",
       "      <th>秋</th>\n",
       "      <td>28830620.84</td>\n",
       "      <td>11391</td>\n",
       "    </tr>\n",
       "    <tr>\n",
       "      <th>冬</th>\n",
       "      <td>28426700.46</td>\n",
       "      <td>11104</td>\n",
       "    </tr>\n",
       "  </tbody>\n",
       "</table>\n",
       "</div>"
      ],
      "text/plain": [
       "        total_sales  transaction_count\n",
       "season                                \n",
       "春       29381730.29              11517\n",
       "夏       28797762.49              11539\n",
       "秋       28830620.84              11391\n",
       "冬       28426700.46              11104"
      ]
     },
     "execution_count": 39,
     "metadata": {},
     "output_type": "execute_result"
    }
   ],
   "source": [
    "# 季節別\n",
    "season_summary = df.groupby(\"season\").agg(\n",
    "    total_sales = (\"total_amount\", \"sum\"),\n",
    "    transaction_count = (\"invoice_no\", \"count\")).reindex(season_order)\n",
    "# 確認\n",
    "season_summary"
   ]
  },
  {
   "cell_type": "markdown",
   "id": "64a8f85f",
   "metadata": {},
   "source": [
    "## 4.4 棒グラフで可視化・画像を保存"
   ]
  },
  {
   "cell_type": "code",
   "execution_count": 45,
   "id": "33bd4536",
   "metadata": {},
   "outputs": [
    {
     "data": {
      "image/png": "[encoded data removed]",
      "text/plain": [
       "<Figure size 720x432 with 1 Axes>"
      ]
     },
     "metadata": {},
     "output_type": "display_data"
    },
    {
     "data": {
      "image/png": "[encoded data removed]",
      "text/plain": [
       "<Figure size 720x432 with 1 Axes>"
      ]
     },
     "metadata": {},
     "output_type": "display_data"
    },
    {
     "data": {
      "image/png": "[encoded data removed]",
      "text/plain": [
       "<Figure size 720x432 with 1 Axes>"
      ]
     },
     "metadata": {},
     "output_type": "display_data"
    },
    {
     "data": {
      "image/png": "[encoded data removed]",
      "text/plain": [
       "<Figure size 720x432 with 1 Axes>"
      ]
     },
     "metadata": {},
     "output_type": "display_data"
    },
    {
     "data": {
      "image/png": "[encoded data removed]",
      "text/plain": [
       "<Figure size 720x432 with 1 Axes>"
      ]
     },
     "metadata": {},
     "output_type": "display_data"
    },
    {
     "data": {
      "image/png": "[encoded data removed]",
      "text/plain": [
       "<Figure size 720x432 with 1 Axes>"
      ]
     },
     "metadata": {},
     "output_type": "display_data"
    }
   ],
   "source": [
    "# グラフによる可視化\n",
    "\n",
    "# 共通設定\n",
    "figsize = (10, 6)\n",
    "formatter = mtick.FuncFormatter(lambda x, _: f\"{int(x):,}\")\n",
    "\n",
    "# 描画対象とファイル番号の定義\n",
    "plot_targets = [\n",
    "    (\"monthly_summary\", \"month\", \"月別\"),\n",
    "    (\"weekday_summary\", \"weekday\", \"曜日別\"),\n",
    "    (\"season_summary\", \"season\", \"季節別\")\n",
    "]\n",
    "\n",
    "# 通し番号のスタート\n",
    "plot_cols = [\"total_sales\", \"transaction_count\"]\n",
    "base_fig_num = 10\n",
    "\n",
    "# 実行\n",
    "for i, (df_name, x_label, title_prefix) in enumerate(plot_targets):\n",
    "    df_obj = eval(df_name)\n",
    "    for j, col in enumerate(plot_cols):\n",
    "        fig_num = base_fig_num + i * 2 + j  # 通し番号 10〜15\n",
    "\n",
    "        fig, ax = plt.subplots(figsize=figsize, facecolor=\"white\")\n",
    "        df_obj[col].plot(kind=\"bar\", color=\"#9e9ac8\", ax=ax)\n",
    "\n",
    "        ax.set_title(f\"{title_prefix}の{ '売上合計' if col == 'total_sales' else '取引件数' }（2022年）\", fontsize=14)\n",
    "        ax.set_xlabel(title_prefix, fontsize=12)\n",
    "        ax.set_ylabel(\"合計売上（TL）\" if col == \"total_sales\" else \"取引件数\", fontsize=12)\n",
    "        ax.yaxis.set_major_formatter(formatter)\n",
    "        ax.tick_params(axis=\"x\", rotation=0)\n",
    "\n",
    "        plt.tight_layout()\n",
    "        plt.show()\n",
    "\n",
    "        # 保存\n",
    "        fig.savefig(f\"../output/{fig_num:02d}_{x_label}_{col}.png\", dpi=300, bbox_inches=\"tight\")\n"
   ]
  },
  {
   "cell_type": "markdown",
   "id": "2b3a5d61",
   "metadata": {},
   "source": [
    "## 時間軸に基づく売上・取引件数の傾向分析（2022年）\n",
    "\n",
    "このセクションでは、取引日の情報をもとに、以下の3つの時間的視点から売上および取引件数の傾向を可視化・分析した：\n",
    "\n",
    "- 月別（1月〜12月）\n",
    "- 曜日別（週7日）\n",
    "- 季節別（春・夏・秋・冬）\n",
    "\n",
    "### 考察メモ\n",
    "\n",
    "- **月別分析**では、2月と11月の売上がやや落ち込む傾向にあることが分かった。それ以外の月では、特に大きな偏りは見られず、同程度の水準で推移している事が分かった。\n",
    "- **曜日別分析**では、月曜が売上のピークとみられ、その後はゆるやかに推移し、日曜日に売り上げがやや落ち込む傾向が見られた。\n",
    "- **季節別分析**では、3月から5月にかけての春季にて最も売上・取引件数ともに高いが、こちらもあまり大きな偏りは確認されなかった。\n",
    "\n",
    "分析の結果、月、曜日、季節といった因子は売上や取引件数にある程度影響を及ぼしているものの、取り立てて注目するべき偏りは無く、安定して推移しているという事が分かった。\n",
    "\n",
    "### 保存ファイル\n",
    "\n",
    "- グラフ画像は `output/` ディレクトリに、通し番号付きファイル名で保存済み（10〜15）\n"
   ]
  },
  {
   "cell_type": "code",
   "execution_count": null,
   "id": "136d6cb4",
   "metadata": {},
   "outputs": [],
   "source": []
  }
 ],
 "metadata": {
  "kernelspec": {
   "display_name": "Python 3 (ipykernel)",
   "language": "python",
   "name": "python3"
  },
  "language_info": {
   "codemirror_mode": {
    "name": "ipython",
    "version": 3
   },
   "file_extension": ".py",
   "mimetype": "text/x-python",
   "name": "python",
   "nbconvert_exporter": "python",
   "pygments_lexer": "ipython3",
   "version": "3.9.7"
  }
 },
 "nbformat": 4,
 "nbformat_minor": 5
}
