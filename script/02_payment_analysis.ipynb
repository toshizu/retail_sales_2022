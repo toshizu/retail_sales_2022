{
 "cells": [
  {
   "cell_type": "markdown",
   "id": "4daa9752",
   "metadata": {},
   "source": [
    "# 01. 決済方法ごとの比較"
   ]
  },
  {
   "cell_type": "markdown",
   "id": "ecdb538a",
   "metadata": {},
   "source": [
    "## 1-1. データの読み込み"
   ]
  },
  {
   "cell_type": "code",
   "execution_count": 12,
   "id": "ab1738ae",
   "metadata": {},
   "outputs": [],
   "source": [
    "import pandas as pd\n",
    "import matplotlib.pyplot as plt\n",
    "import matplotlib.font_manager as fm\n",
    "import japanize_matplotlib\n",
    "import matplotlib.ticker as mtick"
   ]
  },
  {
   "cell_type": "code",
   "execution_count": 8,
   "id": "fd84d7c4",
   "metadata": {},
   "outputs": [],
   "source": [
    "# 2022年のデータを読み込み\n",
    "df = pd.read_csv(\"../data/customer_shopping_data_2022.csv\")\n",
    "\n",
    "# 「invoice_date」を日付型に変換\n",
    "df[\"invoice_date\"] = pd.to_datetime(df[\"invoice_date\"], errors=\"coerce\")"
   ]
  },
  {
   "cell_type": "code",
   "execution_count": 13,
   "id": "d46c446c",
   "metadata": {
    "scrolled": true
   },
   "outputs": [
    {
     "data": {
      "text/html": [
       "<div>\n",
       "<style scoped>\n",
       "    .dataframe tbody tr th:only-of-type {\n",
       "        vertical-align: middle;\n",
       "    }\n",
       "\n",
       "    .dataframe tbody tr th {\n",
       "        vertical-align: top;\n",
       "    }\n",
       "\n",
       "    .dataframe thead th {\n",
       "        text-align: right;\n",
       "    }\n",
       "</style>\n",
       "<table border=\"1\" class=\"dataframe\">\n",
       "  <thead>\n",
       "    <tr style=\"text-align: right;\">\n",
       "      <th></th>\n",
       "      <th>invoice_no</th>\n",
       "      <th>customer_id</th>\n",
       "      <th>gender</th>\n",
       "      <th>age</th>\n",
       "      <th>category</th>\n",
       "      <th>quantity</th>\n",
       "      <th>price</th>\n",
       "      <th>payment_method</th>\n",
       "      <th>invoice_date</th>\n",
       "      <th>shopping_mall</th>\n",
       "      <th>total_amount</th>\n",
       "      <th>age_group</th>\n",
       "    </tr>\n",
       "  </thead>\n",
       "  <tbody>\n",
       "    <tr>\n",
       "      <th>0</th>\n",
       "      <td>I138884</td>\n",
       "      <td>C241288</td>\n",
       "      <td>Female</td>\n",
       "      <td>28</td>\n",
       "      <td>Clothing</td>\n",
       "      <td>5</td>\n",
       "      <td>1500.40</td>\n",
       "      <td>Credit Card</td>\n",
       "      <td>2022-05-08</td>\n",
       "      <td>Kanyon</td>\n",
       "      <td>7502.00</td>\n",
       "      <td>20s</td>\n",
       "    </tr>\n",
       "    <tr>\n",
       "      <th>1</th>\n",
       "      <td>I227836</td>\n",
       "      <td>C657758</td>\n",
       "      <td>Female</td>\n",
       "      <td>28</td>\n",
       "      <td>Clothing</td>\n",
       "      <td>5</td>\n",
       "      <td>1500.40</td>\n",
       "      <td>Credit Card</td>\n",
       "      <td>2022-05-24</td>\n",
       "      <td>Forum Istanbul</td>\n",
       "      <td>7502.00</td>\n",
       "      <td>20s</td>\n",
       "    </tr>\n",
       "    <tr>\n",
       "      <th>2</th>\n",
       "      <td>I121056</td>\n",
       "      <td>C151197</td>\n",
       "      <td>Female</td>\n",
       "      <td>49</td>\n",
       "      <td>Cosmetics</td>\n",
       "      <td>1</td>\n",
       "      <td>40.66</td>\n",
       "      <td>Cash</td>\n",
       "      <td>2022-03-13</td>\n",
       "      <td>Istinye Park</td>\n",
       "      <td>40.66</td>\n",
       "      <td>40s</td>\n",
       "    </tr>\n",
       "    <tr>\n",
       "      <th>3</th>\n",
       "      <td>I306368</td>\n",
       "      <td>C240286</td>\n",
       "      <td>Female</td>\n",
       "      <td>36</td>\n",
       "      <td>Food &amp; Beverage</td>\n",
       "      <td>2</td>\n",
       "      <td>10.46</td>\n",
       "      <td>Cash</td>\n",
       "      <td>2022-12-25</td>\n",
       "      <td>Metrocity</td>\n",
       "      <td>20.92</td>\n",
       "      <td>30s</td>\n",
       "    </tr>\n",
       "    <tr>\n",
       "      <th>4</th>\n",
       "      <td>I139207</td>\n",
       "      <td>C191708</td>\n",
       "      <td>Female</td>\n",
       "      <td>29</td>\n",
       "      <td>Books</td>\n",
       "      <td>1</td>\n",
       "      <td>15.15</td>\n",
       "      <td>Credit Card</td>\n",
       "      <td>2022-10-28</td>\n",
       "      <td>Emaar Square Mall</td>\n",
       "      <td>15.15</td>\n",
       "      <td>20s</td>\n",
       "    </tr>\n",
       "  </tbody>\n",
       "</table>\n",
       "</div>"
      ],
      "text/plain": [
       "  invoice_no customer_id  gender  age         category  quantity    price  \\\n",
       "0    I138884     C241288  Female   28         Clothing         5  1500.40   \n",
       "1    I227836     C657758  Female   28         Clothing         5  1500.40   \n",
       "2    I121056     C151197  Female   49        Cosmetics         1    40.66   \n",
       "3    I306368     C240286  Female   36  Food & Beverage         2    10.46   \n",
       "4    I139207     C191708  Female   29            Books         1    15.15   \n",
       "\n",
       "  payment_method invoice_date      shopping_mall  total_amount age_group  \n",
       "0    Credit Card   2022-05-08             Kanyon       7502.00       20s  \n",
       "1    Credit Card   2022-05-24     Forum Istanbul       7502.00       20s  \n",
       "2           Cash   2022-03-13       Istinye Park         40.66       40s  \n",
       "3           Cash   2022-12-25          Metrocity         20.92       30s  \n",
       "4    Credit Card   2022-10-28  Emaar Square Mall         15.15       20s  "
      ]
     },
     "execution_count": 13,
     "metadata": {},
     "output_type": "execute_result"
    }
   ],
   "source": [
    "# 先頭確認\n",
    "df.head()"
   ]
  },
  {
   "cell_type": "markdown",
   "id": "b981eb1f",
   "metadata": {},
   "source": [
    "## 1-2. 決済方法ごとに売上高と取引件数を集計"
   ]
  },
  {
   "cell_type": "code",
   "execution_count": 35,
   "id": "d58f8885",
   "metadata": {},
   "outputs": [
    {
     "data": {
      "text/html": [
       "<div>\n",
       "<style scoped>\n",
       "    .dataframe tbody tr th:only-of-type {\n",
       "        vertical-align: middle;\n",
       "    }\n",
       "\n",
       "    .dataframe tbody tr th {\n",
       "        vertical-align: top;\n",
       "    }\n",
       "\n",
       "    .dataframe thead th {\n",
       "        text-align: right;\n",
       "    }\n",
       "</style>\n",
       "<table border=\"1\" class=\"dataframe\">\n",
       "  <thead>\n",
       "    <tr style=\"text-align: right;\">\n",
       "      <th></th>\n",
       "      <th>total_sales</th>\n",
       "      <th>transaction_count</th>\n",
       "    </tr>\n",
       "    <tr>\n",
       "      <th>payment_method</th>\n",
       "      <th></th>\n",
       "      <th></th>\n",
       "    </tr>\n",
       "  </thead>\n",
       "  <tbody>\n",
       "    <tr>\n",
       "      <th>Cash</th>\n",
       "      <td>51697544.18</td>\n",
       "      <td>20380</td>\n",
       "    </tr>\n",
       "    <tr>\n",
       "      <th>Credit Card</th>\n",
       "      <td>40275865.45</td>\n",
       "      <td>16052</td>\n",
       "    </tr>\n",
       "    <tr>\n",
       "      <th>Debit Card</th>\n",
       "      <td>23463404.45</td>\n",
       "      <td>9119</td>\n",
       "    </tr>\n",
       "  </tbody>\n",
       "</table>\n",
       "</div>"
      ],
      "text/plain": [
       "                total_sales  transaction_count\n",
       "payment_method                                \n",
       "Cash            51697544.18              20380\n",
       "Credit Card     40275865.45              16052\n",
       "Debit Card      23463404.45               9119"
      ]
     },
     "execution_count": 35,
     "metadata": {},
     "output_type": "execute_result"
    }
   ],
   "source": [
    "# 決済方法別の売上集計\n",
    "summary_by_payment = df.groupby(\"payment_method\")[\"total_amount\"].agg(\n",
    "    total_sales = \"sum\",\n",
    "    transaction_count = \"count\"\n",
    ").sort_values(\"total_sales\", ascending=False)\n",
    "\n",
    "# 確認\n",
    "summary_by_payment"
   ]
  },
  {
   "cell_type": "markdown",
   "id": "087c0657",
   "metadata": {},
   "source": [
    "# 02. 決済方法べつの売上集計と取引件数を可視化"
   ]
  },
  {
   "cell_type": "markdown",
   "id": "87cbf6bb",
   "metadata": {},
   "source": [
    "## 2-1. 売上を棒グラフで可視化・画像を保存"
   ]
  },
  {
   "cell_type": "code",
   "execution_count": 41,
   "id": "c97e661c",
   "metadata": {},
   "outputs": [
    {
     "data": {
      "image/png": "[encoded data removed]",
      "text/plain": [
       "<Figure size 720x432 with 1 Axes>"
      ]
     },
     "metadata": {},
     "output_type": "display_data"
    }
   ],
   "source": [
    "# 売上合計の棒グラフ\n",
    "\n",
    "fig, ax = plt.subplots(figsize=(10, 6), facecolor=\"white\")\n",
    "summary_by_payment[\"total_sales\"].plot(kind=\"bar\", color=\"#6baed6\", ax=ax)\n",
    "\n",
    "ax.set_title(\"決済方法別の売上合計(2022年)\", fontsize=14)\n",
    "ax.set_xlabel(\"決済方法\", fontsize=12)\n",
    "ax.set_ylabel(\"売上合計(TL)\", fontsize=12)\n",
    "\n",
    "# x軸ラベルを横向きにする\n",
    "ax.tick_params(axis=\"x\", labelrotation=0)\n",
    "\n",
    "ax.yaxis.set_major_formatter(mtick.FuncFormatter(lambda x, _: f\"{int(x):,}\"))\n",
    "\n",
    "# グラフを描画、画像を保存\n",
    "plt.tight_layout()\n",
    "plt.savefig(\"../output/total_sales_by_payment_method.png\", dpi=300, bbox_inches=\"tight\")\n",
    "plt.show()"
   ]
  },
  {
   "cell_type": "markdown",
   "id": "7bf6ea0c",
   "metadata": {},
   "source": [
    "## 2-2. 取引件数を棒グラフで可視化・画像を保存"
   ]
  },
  {
   "cell_type": "code",
   "execution_count": 45,
   "id": "36749e20",
   "metadata": {},
   "outputs": [
    {
     "data": {
      "image/png": "[encoded data removed]",
      "text/plain": [
       "<Figure size 720x432 with 1 Axes>"
      ]
     },
     "metadata": {},
     "output_type": "display_data"
    }
   ],
   "source": [
    "# 取引件数の棒グラフ\n",
    "\n",
    "fig, ax = plt.subplots(figsize=(10, 6), facecolor=\"white\")\n",
    "summary_by_payment[\"transaction_count\"].plot(kind=\"bar\", color=\"#fdae6b\", ax=ax)\n",
    "\n",
    "ax.set_title(\"決済方法別の取引件数(2022年)\", fontsize=14)\n",
    "ax.set_xlabel(\"決済方法\", fontsize=12)\n",
    "ax.set_ylabel(\"件数\", fontsize=12)\n",
    "\n",
    "# x軸ラベルを横向きに\n",
    "ax.tick_params(axis=\"x\", labelrotation=0)\n",
    "\n",
    "ax.yaxis.set_major_formatter(mtick.FuncFormatter(lambda x, _: f\"{int(x):,}\"))\n",
    "\n",
    "# グラフを描画、画像を保存\n",
    "plt.tight_layout()\n",
    "plt.savefig(\"../output/transaction_count_by_payment_method.png\",\n",
    "            dpi=300, bbox_inches=\"tight\")\n",
    "plt.show()"
   ]
  },
  {
   "cell_type": "markdown",
   "id": "9976328e",
   "metadata": {},
   "source": [
    "## 決済方法別の売上と取引件数集計（2022年）\n",
    "\n",
    "このセクションでは、2022年における決済方法別（現金・クレジットカード・デビットカード）の売上傾向と、取引件数を可視化した。\n",
    "\n",
    "- データ集計は`df.groupby(\"payment_method\")[\"total_amount\"].agg(total_sales = \"sum\",transaction_count = \"count\").sort_values(\"total_sales\", ascending=False)`により実施\n",
    "- 決済方法は、Cash: 「現金」、Credit Card: 「クレジットカード」、Debit Card: 「デビットカード」で分類\n",
    "- グラフは棒グラフ形式で可視化\n",
    "\n",
    "### 考察メモ\n",
    "\n",
    "- 売上、取引件数ともに、デビットカード、クレジットカード、現金の順番で多くなっている。\n",
    "\n",
    "### 保存ファイル\n",
    "- グラフ画像は`output/`ディレクトリにそれぞれ保存済み"
   ]
  }
 ],
 "metadata": {
  "kernelspec": {
   "display_name": "Python 3 (ipykernel)",
   "language": "python",
   "name": "python3"
  },
  "language_info": {
   "codemirror_mode": {
    "name": "ipython",
    "version": 3
   },
   "file_extension": ".py",
   "mimetype": "text/x-python",
   "name": "python",
   "nbconvert_exporter": "python",
   "pygments_lexer": "ipython3",
   "version": "3.9.7"
  }
 },
 "nbformat": 4,
 "nbformat_minor": 5
}
