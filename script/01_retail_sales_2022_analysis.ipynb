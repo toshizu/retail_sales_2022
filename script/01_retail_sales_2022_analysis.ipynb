{
 "cells": [
  {
   "cell_type": "markdown",
   "id": "e732e225",
   "metadata": {},
   "source": [
    "# 1. データの初期確認、性別・年代別集計"
   ]
  },
  {
   "cell_type": "markdown",
   "id": "1bc27082",
   "metadata": {},
   "source": [
    "## 1.1 データの読み込みと初期確認"
   ]
  },
  {
   "cell_type": "markdown",
   "id": "ed73931f",
   "metadata": {},
   "source": [
    "### 1.1.1 データの読み込み"
   ]
  },
  {
   "cell_type": "code",
   "execution_count": 2,
   "id": "d6e4706a",
   "metadata": {},
   "outputs": [],
   "source": [
    "import pandas as pd\n",
    "import matplotlib.pyplot as plt\n",
    "import matplotlib.font_manager as fm\n",
    "import japanize_matplotlib\n",
    "import matplotlib.ticker as mtick"
   ]
  },
  {
   "cell_type": "code",
   "execution_count": 3,
   "id": "ae65b82b",
   "metadata": {},
   "outputs": [
    {
     "data": {
      "text/html": [
       "<div>\n",
       "<style scoped>\n",
       "    .dataframe tbody tr th:only-of-type {\n",
       "        vertical-align: middle;\n",
       "    }\n",
       "\n",
       "    .dataframe tbody tr th {\n",
       "        vertical-align: top;\n",
       "    }\n",
       "\n",
       "    .dataframe thead th {\n",
       "        text-align: right;\n",
       "    }\n",
       "</style>\n",
       "<table border=\"1\" class=\"dataframe\">\n",
       "  <thead>\n",
       "    <tr style=\"text-align: right;\">\n",
       "      <th></th>\n",
       "      <th>invoice_no</th>\n",
       "      <th>customer_id</th>\n",
       "      <th>gender</th>\n",
       "      <th>age</th>\n",
       "      <th>category</th>\n",
       "      <th>quantity</th>\n",
       "      <th>price</th>\n",
       "      <th>payment_method</th>\n",
       "      <th>invoice_date</th>\n",
       "      <th>shopping_mall</th>\n",
       "    </tr>\n",
       "  </thead>\n",
       "  <tbody>\n",
       "    <tr>\n",
       "      <th>0</th>\n",
       "      <td>I138884</td>\n",
       "      <td>C241288</td>\n",
       "      <td>Female</td>\n",
       "      <td>28</td>\n",
       "      <td>Clothing</td>\n",
       "      <td>5</td>\n",
       "      <td>1500.40</td>\n",
       "      <td>Credit Card</td>\n",
       "      <td>5/8/2022</td>\n",
       "      <td>Kanyon</td>\n",
       "    </tr>\n",
       "    <tr>\n",
       "      <th>1</th>\n",
       "      <td>I317333</td>\n",
       "      <td>C111565</td>\n",
       "      <td>Male</td>\n",
       "      <td>21</td>\n",
       "      <td>Shoes</td>\n",
       "      <td>3</td>\n",
       "      <td>1800.51</td>\n",
       "      <td>Debit Card</td>\n",
       "      <td>12/12/2021</td>\n",
       "      <td>Forum Istanbul</td>\n",
       "    </tr>\n",
       "    <tr>\n",
       "      <th>2</th>\n",
       "      <td>I127801</td>\n",
       "      <td>C266599</td>\n",
       "      <td>Male</td>\n",
       "      <td>20</td>\n",
       "      <td>Clothing</td>\n",
       "      <td>1</td>\n",
       "      <td>300.08</td>\n",
       "      <td>Cash</td>\n",
       "      <td>9/11/2021</td>\n",
       "      <td>Metrocity</td>\n",
       "    </tr>\n",
       "    <tr>\n",
       "      <th>3</th>\n",
       "      <td>I173702</td>\n",
       "      <td>C988172</td>\n",
       "      <td>Female</td>\n",
       "      <td>66</td>\n",
       "      <td>Shoes</td>\n",
       "      <td>5</td>\n",
       "      <td>3000.85</td>\n",
       "      <td>Credit Card</td>\n",
       "      <td>16/05/2021</td>\n",
       "      <td>Metropol AVM</td>\n",
       "    </tr>\n",
       "    <tr>\n",
       "      <th>4</th>\n",
       "      <td>I337046</td>\n",
       "      <td>C189076</td>\n",
       "      <td>Female</td>\n",
       "      <td>53</td>\n",
       "      <td>Books</td>\n",
       "      <td>4</td>\n",
       "      <td>60.60</td>\n",
       "      <td>Cash</td>\n",
       "      <td>24/10/2021</td>\n",
       "      <td>Kanyon</td>\n",
       "    </tr>\n",
       "  </tbody>\n",
       "</table>\n",
       "</div>"
      ],
      "text/plain": [
       "  invoice_no customer_id  gender  age  category  quantity    price  \\\n",
       "0    I138884     C241288  Female   28  Clothing         5  1500.40   \n",
       "1    I317333     C111565    Male   21     Shoes         3  1800.51   \n",
       "2    I127801     C266599    Male   20  Clothing         1   300.08   \n",
       "3    I173702     C988172  Female   66     Shoes         5  3000.85   \n",
       "4    I337046     C189076  Female   53     Books         4    60.60   \n",
       "\n",
       "  payment_method invoice_date   shopping_mall  \n",
       "0    Credit Card     5/8/2022          Kanyon  \n",
       "1     Debit Card   12/12/2021  Forum Istanbul  \n",
       "2           Cash    9/11/2021       Metrocity  \n",
       "3    Credit Card   16/05/2021    Metropol AVM  \n",
       "4           Cash   24/10/2021          Kanyon  "
      ]
     },
     "execution_count": 3,
     "metadata": {},
     "output_type": "execute_result"
    }
   ],
   "source": [
    "# データ読み込み\n",
    "df = pd.read_csv(\"../data/customer_shopping_data.csv\")\n",
    "\n",
    "# 先頭の五行確認\n",
    "df.head()"
   ]
  },
  {
   "cell_type": "markdown",
   "id": "ce0d6722",
   "metadata": {},
   "source": [
    "### 1.1.2 データ構造の確認"
   ]
  },
  {
   "cell_type": "code",
   "execution_count": 4,
   "id": "59482f9b",
   "metadata": {},
   "outputs": [
    {
     "name": "stdout",
     "output_type": "stream",
     "text": [
      "<class 'pandas.core.frame.DataFrame'>\n",
      "RangeIndex: 99457 entries, 0 to 99456\n",
      "Data columns (total 10 columns):\n",
      " #   Column          Non-Null Count  Dtype  \n",
      "---  ------          --------------  -----  \n",
      " 0   invoice_no      99457 non-null  object \n",
      " 1   customer_id     99457 non-null  object \n",
      " 2   gender          99457 non-null  object \n",
      " 3   age             99457 non-null  int64  \n",
      " 4   category        99457 non-null  object \n",
      " 5   quantity        99457 non-null  int64  \n",
      " 6   price           99457 non-null  float64\n",
      " 7   payment_method  99457 non-null  object \n",
      " 8   invoice_date    99457 non-null  object \n",
      " 9   shopping_mall   99457 non-null  object \n",
      "dtypes: float64(1), int64(2), object(7)\n",
      "memory usage: 7.6+ MB\n"
     ]
    }
   ],
   "source": [
    "# データ型、構造確認\n",
    "df.info()"
   ]
  },
  {
   "cell_type": "code",
   "execution_count": 5,
   "id": "9d25d376",
   "metadata": {},
   "outputs": [
    {
     "data": {
      "text/html": [
       "<div>\n",
       "<style scoped>\n",
       "    .dataframe tbody tr th:only-of-type {\n",
       "        vertical-align: middle;\n",
       "    }\n",
       "\n",
       "    .dataframe tbody tr th {\n",
       "        vertical-align: top;\n",
       "    }\n",
       "\n",
       "    .dataframe thead th {\n",
       "        text-align: right;\n",
       "    }\n",
       "</style>\n",
       "<table border=\"1\" class=\"dataframe\">\n",
       "  <thead>\n",
       "    <tr style=\"text-align: right;\">\n",
       "      <th></th>\n",
       "      <th>age</th>\n",
       "      <th>quantity</th>\n",
       "      <th>price</th>\n",
       "    </tr>\n",
       "  </thead>\n",
       "  <tbody>\n",
       "    <tr>\n",
       "      <th>count</th>\n",
       "      <td>99457.000000</td>\n",
       "      <td>99457.000000</td>\n",
       "      <td>99457.000000</td>\n",
       "    </tr>\n",
       "    <tr>\n",
       "      <th>mean</th>\n",
       "      <td>43.427089</td>\n",
       "      <td>3.003429</td>\n",
       "      <td>689.256321</td>\n",
       "    </tr>\n",
       "    <tr>\n",
       "      <th>std</th>\n",
       "      <td>14.990054</td>\n",
       "      <td>1.413025</td>\n",
       "      <td>941.184567</td>\n",
       "    </tr>\n",
       "    <tr>\n",
       "      <th>min</th>\n",
       "      <td>18.000000</td>\n",
       "      <td>1.000000</td>\n",
       "      <td>5.230000</td>\n",
       "    </tr>\n",
       "    <tr>\n",
       "      <th>25%</th>\n",
       "      <td>30.000000</td>\n",
       "      <td>2.000000</td>\n",
       "      <td>45.450000</td>\n",
       "    </tr>\n",
       "    <tr>\n",
       "      <th>50%</th>\n",
       "      <td>43.000000</td>\n",
       "      <td>3.000000</td>\n",
       "      <td>203.300000</td>\n",
       "    </tr>\n",
       "    <tr>\n",
       "      <th>75%</th>\n",
       "      <td>56.000000</td>\n",
       "      <td>4.000000</td>\n",
       "      <td>1200.320000</td>\n",
       "    </tr>\n",
       "    <tr>\n",
       "      <th>max</th>\n",
       "      <td>69.000000</td>\n",
       "      <td>5.000000</td>\n",
       "      <td>5250.000000</td>\n",
       "    </tr>\n",
       "  </tbody>\n",
       "</table>\n",
       "</div>"
      ],
      "text/plain": [
       "                age      quantity         price\n",
       "count  99457.000000  99457.000000  99457.000000\n",
       "mean      43.427089      3.003429    689.256321\n",
       "std       14.990054      1.413025    941.184567\n",
       "min       18.000000      1.000000      5.230000\n",
       "25%       30.000000      2.000000     45.450000\n",
       "50%       43.000000      3.000000    203.300000\n",
       "75%       56.000000      4.000000   1200.320000\n",
       "max       69.000000      5.000000   5250.000000"
      ]
     },
     "execution_count": 5,
     "metadata": {},
     "output_type": "execute_result"
    }
   ],
   "source": [
    "# 大雑把な統計値把握\n",
    "df.describe()"
   ]
  },
  {
   "cell_type": "markdown",
   "id": "8fd345de",
   "metadata": {},
   "source": [
    "### 1.1.3 欠損値の確認"
   ]
  },
  {
   "cell_type": "code",
   "execution_count": 6,
   "id": "ecedec55",
   "metadata": {},
   "outputs": [
    {
     "data": {
      "text/plain": [
       "invoice_no        0\n",
       "customer_id       0\n",
       "gender            0\n",
       "age               0\n",
       "category          0\n",
       "quantity          0\n",
       "price             0\n",
       "payment_method    0\n",
       "invoice_date      0\n",
       "shopping_mall     0\n",
       "dtype: int64"
      ]
     },
     "execution_count": 6,
     "metadata": {},
     "output_type": "execute_result"
    }
   ],
   "source": [
    "# 欠損値確認\n",
    "df.isnull().sum()"
   ]
  },
  {
   "cell_type": "markdown",
   "id": "2f49aa82",
   "metadata": {},
   "source": [
    "### 1.1.4 数値列のヒストグラム表示"
   ]
  },
  {
   "cell_type": "code",
   "execution_count": 7,
   "id": "9915ace6",
   "metadata": {},
   "outputs": [
    {
     "data": {
      "image/png": "[encoded data removed]",
      "text/plain": [
       "<Figure size 864x576 with 4 Axes>"
      ]
     },
     "metadata": {
      "needs_background": "light"
     },
     "output_type": "display_data"
    }
   ],
   "source": [
    "# 数値データのおおまかな分布を調べる\n",
    "df.hist(figsize=(12, 8), bins=30)\n",
    "plt.tight_layout()\n",
    "plt.show()"
   ]
  },
  {
   "cell_type": "markdown",
   "id": "c8f60bb2",
   "metadata": {},
   "source": [
    "## 1.2 日付処理と2022年データの抽出"
   ]
  },
  {
   "cell_type": "markdown",
   "id": "ad8b6f90",
   "metadata": {},
   "source": [
    "### 1.2.1 invoice_date の日付型変換"
   ]
  },
  {
   "cell_type": "code",
   "execution_count": 8,
   "id": "71557622",
   "metadata": {},
   "outputs": [],
   "source": [
    "# 「invoice_date」を日付型に変換\n",
    "df[\"invoice_date\"] = pd.to_datetime(df[\"invoice_date\"], errors=\"coerce\")"
   ]
  },
  {
   "cell_type": "markdown",
   "id": "d2fc22da",
   "metadata": {},
   "source": [
    "### 1.2.2 2022年データの抽出とコピー作成"
   ]
  },
  {
   "cell_type": "code",
   "execution_count": 9,
   "id": "fa537728",
   "metadata": {},
   "outputs": [],
   "source": [
    "# 2022年を抽出\n",
    "df_2022 = df[df[\"invoice_date\"].dt.year == 2022].copy()"
   ]
  },
  {
   "cell_type": "markdown",
   "id": "8de2876b",
   "metadata": {},
   "source": [
    "### 1.2.3 売上高列(total_amount)の作成"
   ]
  },
  {
   "cell_type": "code",
   "execution_count": 10,
   "id": "8f1f7c21",
   "metadata": {},
   "outputs": [],
   "source": [
    "# 売り上げ金額の列を追加\n",
    "df_2022[\"total_amount\"] = df_2022[\"price\"] * df_2022[\"quantity\"]"
   ]
  },
  {
   "cell_type": "markdown",
   "id": "590b074e",
   "metadata": {},
   "source": [
    "### 1.2.4 2022年データの概要を改めて確認"
   ]
  },
  {
   "cell_type": "code",
   "execution_count": 11,
   "id": "dcad7d47",
   "metadata": {},
   "outputs": [
    {
     "name": "stdout",
     "output_type": "stream",
     "text": [
      "<class 'pandas.core.frame.DataFrame'>\n",
      "Int64Index: 45551 entries, 0 to 99456\n",
      "Data columns (total 11 columns):\n",
      " #   Column          Non-Null Count  Dtype         \n",
      "---  ------          --------------  -----         \n",
      " 0   invoice_no      45551 non-null  object        \n",
      " 1   customer_id     45551 non-null  object        \n",
      " 2   gender          45551 non-null  object        \n",
      " 3   age             45551 non-null  int64         \n",
      " 4   category        45551 non-null  object        \n",
      " 5   quantity        45551 non-null  int64         \n",
      " 6   price           45551 non-null  float64       \n",
      " 7   payment_method  45551 non-null  object        \n",
      " 8   invoice_date    45551 non-null  datetime64[ns]\n",
      " 9   shopping_mall   45551 non-null  object        \n",
      " 10  total_amount    45551 non-null  float64       \n",
      "dtypes: datetime64[ns](1), float64(2), int64(2), object(6)\n",
      "memory usage: 4.2+ MB\n"
     ]
    }
   ],
   "source": [
    "# 2022年のデータの構造や統計値等を改めて確認\n",
    "df_2022.info()"
   ]
  },
  {
   "cell_type": "code",
   "execution_count": 12,
   "id": "1d81593b",
   "metadata": {},
   "outputs": [
    {
     "data": {
      "text/html": [
       "<div>\n",
       "<style scoped>\n",
       "    .dataframe tbody tr th:only-of-type {\n",
       "        vertical-align: middle;\n",
       "    }\n",
       "\n",
       "    .dataframe tbody tr th {\n",
       "        vertical-align: top;\n",
       "    }\n",
       "\n",
       "    .dataframe thead th {\n",
       "        text-align: right;\n",
       "    }\n",
       "</style>\n",
       "<table border=\"1\" class=\"dataframe\">\n",
       "  <thead>\n",
       "    <tr style=\"text-align: right;\">\n",
       "      <th></th>\n",
       "      <th>age</th>\n",
       "      <th>quantity</th>\n",
       "      <th>price</th>\n",
       "      <th>total_amount</th>\n",
       "    </tr>\n",
       "  </thead>\n",
       "  <tbody>\n",
       "    <tr>\n",
       "      <th>count</th>\n",
       "      <td>45551.000000</td>\n",
       "      <td>45551.000000</td>\n",
       "      <td>45551.000000</td>\n",
       "      <td>45551.000000</td>\n",
       "    </tr>\n",
       "    <tr>\n",
       "      <th>mean</th>\n",
       "      <td>43.400847</td>\n",
       "      <td>3.010845</td>\n",
       "      <td>688.740668</td>\n",
       "      <td>2534.232269</td>\n",
       "    </tr>\n",
       "    <tr>\n",
       "      <th>std</th>\n",
       "      <td>14.987844</td>\n",
       "      <td>1.413256</td>\n",
       "      <td>945.084970</td>\n",
       "      <td>4247.054376</td>\n",
       "    </tr>\n",
       "    <tr>\n",
       "      <th>min</th>\n",
       "      <td>18.000000</td>\n",
       "      <td>1.000000</td>\n",
       "      <td>5.230000</td>\n",
       "      <td>5.230000</td>\n",
       "    </tr>\n",
       "    <tr>\n",
       "      <th>25%</th>\n",
       "      <td>30.000000</td>\n",
       "      <td>2.000000</td>\n",
       "      <td>40.660000</td>\n",
       "      <td>130.750000</td>\n",
       "    </tr>\n",
       "    <tr>\n",
       "      <th>50%</th>\n",
       "      <td>43.000000</td>\n",
       "      <td>3.000000</td>\n",
       "      <td>203.300000</td>\n",
       "      <td>600.170000</td>\n",
       "    </tr>\n",
       "    <tr>\n",
       "      <th>75%</th>\n",
       "      <td>56.000000</td>\n",
       "      <td>4.000000</td>\n",
       "      <td>1200.320000</td>\n",
       "      <td>2700.720000</td>\n",
       "    </tr>\n",
       "    <tr>\n",
       "      <th>max</th>\n",
       "      <td>69.000000</td>\n",
       "      <td>5.000000</td>\n",
       "      <td>5250.000000</td>\n",
       "      <td>26250.000000</td>\n",
       "    </tr>\n",
       "  </tbody>\n",
       "</table>\n",
       "</div>"
      ],
      "text/plain": [
       "                age      quantity         price  total_amount\n",
       "count  45551.000000  45551.000000  45551.000000  45551.000000\n",
       "mean      43.400847      3.010845    688.740668   2534.232269\n",
       "std       14.987844      1.413256    945.084970   4247.054376\n",
       "min       18.000000      1.000000      5.230000      5.230000\n",
       "25%       30.000000      2.000000     40.660000    130.750000\n",
       "50%       43.000000      3.000000    203.300000    600.170000\n",
       "75%       56.000000      4.000000   1200.320000   2700.720000\n",
       "max       69.000000      5.000000   5250.000000  26250.000000"
      ]
     },
     "execution_count": 12,
     "metadata": {},
     "output_type": "execute_result"
    }
   ],
   "source": [
    "df_2022.describe()"
   ]
  },
  {
   "cell_type": "code",
   "execution_count": 13,
   "id": "0b38f2e3",
   "metadata": {},
   "outputs": [
    {
     "data": {
      "image/png": "[encoded data removed]",
      "text/plain": [
       "<Figure size 864x576 with 6 Axes>"
      ]
     },
     "metadata": {
      "needs_background": "light"
     },
     "output_type": "display_data"
    }
   ],
   "source": [
    "df_2022.hist(figsize=(12, 8), bins=30)\n",
    "plt.tight_layout()\n",
    "plt.show()"
   ]
  },
  {
   "cell_type": "markdown",
   "id": "bb2021c5",
   "metadata": {},
   "source": [
    "### 1.2.5 外れ値の初期確認"
   ]
  },
  {
   "cell_type": "code",
   "execution_count": 14,
   "id": "9bd368e3",
   "metadata": {},
   "outputs": [
    {
     "data": {
      "text/plain": [
       "count     1869.000000\n",
       "mean     18263.384831\n",
       "std       4680.805983\n",
       "min      15004.250000\n",
       "25%      15004.250000\n",
       "50%      15004.250000\n",
       "75%      26250.000000\n",
       "max      26250.000000\n",
       "Name: total_amount, dtype: float64"
      ]
     },
     "execution_count": 14,
     "metadata": {},
     "output_type": "execute_result"
    }
   ],
   "source": [
    "# 「高額購買」だけを抽出、概要を確認\n",
    "df_2022[df_2022[\"total_amount\"] > 10000][\"total_amount\"].describe()"
   ]
  },
  {
   "cell_type": "code",
   "execution_count": 15,
   "id": "d5798ba3",
   "metadata": {},
   "outputs": [
    {
     "data": {
      "image/png": "[encoded data removed]",
      "text/plain": [
       "<Figure size 720x432 with 1 Axes>"
      ]
     },
     "metadata": {
      "needs_background": "light"
     },
     "output_type": "display_data"
    }
   ],
   "source": [
    "# 高額購買の頻度を視覚的に確認\n",
    "df_2022[df_2022[\"total_amount\"] > 10000][\"total_amount\"].hist(figsize=(10, 6), bins=30)\n",
    "plt.title(\"高額購買(10,000TL以上)\", fontsize=16)\n",
    "plt.xlabel(\"売上金額\", fontsize=14)\n",
    "plt.ylabel(\"頻度\", fontsize=14)\n",
    "plt.tight_layout()\n",
    "plt.show()"
   ]
  },
  {
   "cell_type": "markdown",
   "id": "4bbc62ab",
   "metadata": {},
   "source": [
    "## 1.3 性別×年代別の売上集計を可視化"
   ]
  },
  {
   "cell_type": "markdown",
   "id": "5ba6bc58",
   "metadata": {},
   "source": [
    "### 1.3.1 データを年代別にグループ分け"
   ]
  },
  {
   "cell_type": "code",
   "execution_count": 16,
   "id": "79dc0cd1",
   "metadata": {},
   "outputs": [],
   "source": [
    "# 年齢を10で区切ったデータの列を新たに追加\n",
    "df_2022[\"age_group\"] = (df_2022[\"age\"] // 10 * 10).astype(str) + \"s\""
   ]
  },
  {
   "cell_type": "markdown",
   "id": "9ddcfe2b",
   "metadata": {},
   "source": [
    "### 1.3.2 性別×年代別の売上を集計"
   ]
  },
  {
   "cell_type": "code",
   "execution_count": 17,
   "id": "69bad568",
   "metadata": {
    "scrolled": true
   },
   "outputs": [
    {
     "data": {
      "text/html": [
       "<div>\n",
       "<style scoped>\n",
       "    .dataframe tbody tr th:only-of-type {\n",
       "        vertical-align: middle;\n",
       "    }\n",
       "\n",
       "    .dataframe tbody tr th {\n",
       "        vertical-align: top;\n",
       "    }\n",
       "\n",
       "    .dataframe thead th {\n",
       "        text-align: right;\n",
       "    }\n",
       "</style>\n",
       "<table border=\"1\" class=\"dataframe\">\n",
       "  <thead>\n",
       "    <tr style=\"text-align: right;\">\n",
       "      <th>age_group</th>\n",
       "      <th>10s</th>\n",
       "      <th>20s</th>\n",
       "      <th>30s</th>\n",
       "      <th>40s</th>\n",
       "      <th>50s</th>\n",
       "      <th>60s</th>\n",
       "    </tr>\n",
       "    <tr>\n",
       "      <th>gender</th>\n",
       "      <th></th>\n",
       "      <th></th>\n",
       "      <th></th>\n",
       "      <th></th>\n",
       "      <th></th>\n",
       "      <th></th>\n",
       "    </tr>\n",
       "  </thead>\n",
       "  <tbody>\n",
       "    <tr>\n",
       "      <th>Female</th>\n",
       "      <td>2687785.25</td>\n",
       "      <td>13576974.0</td>\n",
       "      <td>13321867.26</td>\n",
       "      <td>13510577.77</td>\n",
       "      <td>13174306.02</td>\n",
       "      <td>12788365.93</td>\n",
       "    </tr>\n",
       "    <tr>\n",
       "      <th>Male</th>\n",
       "      <td>1694387.86</td>\n",
       "      <td>8567587.8</td>\n",
       "      <td>8821034.90</td>\n",
       "      <td>9370266.83</td>\n",
       "      <td>8784787.59</td>\n",
       "      <td>9138872.87</td>\n",
       "    </tr>\n",
       "  </tbody>\n",
       "</table>\n",
       "</div>"
      ],
      "text/plain": [
       "age_group         10s         20s          30s          40s          50s  \\\n",
       "gender                                                                     \n",
       "Female     2687785.25  13576974.0  13321867.26  13510577.77  13174306.02   \n",
       "Male       1694387.86   8567587.8   8821034.90   9370266.83   8784787.59   \n",
       "\n",
       "age_group          60s  \n",
       "gender                  \n",
       "Female     12788365.93  \n",
       "Male        9138872.87  "
      ]
     },
     "execution_count": 17,
     "metadata": {},
     "output_type": "execute_result"
    }
   ],
   "source": [
    "# 性別・年代別の売上集計\n",
    "gender_age_sales = df_2022.groupby([\"gender\", \"age_group\"])[\"total_amount\"].sum().unstack()\n",
    "gender_age_sales"
   ]
  },
  {
   "cell_type": "markdown",
   "id": "0a2c2881",
   "metadata": {},
   "source": [
    "### 1.3.3 2022年のデータを別途保存"
   ]
  },
  {
   "cell_type": "code",
   "execution_count": 18,
   "id": "03f4c4bc",
   "metadata": {},
   "outputs": [],
   "source": [
    "# 2022年のみ抽出したデータフレームをcsvファイルで保存\n",
    "df_2022.to_csv(\"../data/customer_shopping_data_2022.csv\", index=False)"
   ]
  },
  {
   "cell_type": "markdown",
   "id": "18cc2bd2",
   "metadata": {},
   "source": [
    "### 1.3.4 棒グラフで可視化・画像を保存"
   ]
  },
  {
   "cell_type": "code",
   "execution_count": 19,
   "id": "f26c9e79",
   "metadata": {},
   "outputs": [
    {
     "data": {
      "image/png": "[encoded data removed]",
      "text/plain": [
       "<Figure size 720x432 with 1 Axes>"
      ]
     },
     "metadata": {},
     "output_type": "display_data"
    }
   ],
   "source": [
    "# 棒グラフによる可視化\n",
    "\n",
    "# カラー設定\n",
    "colors = {\n",
    "    \"Female\": \"#f7c6c7\", #ベビーピンク\n",
    "    \"Male\": \"#6ca0dc\"    #スカイブルー\n",
    "}\n",
    "\n",
    "# 色純を性別の列順に合わせる\n",
    "color_list = [colors[gender] for gender in gender_age_sales.index]\n",
    "\n",
    "\n",
    "fig, ax = plt.subplots(figsize=(10, 6), facecolor='white')\n",
    "gender_age_sales.T.plot(kind=\"bar\", ax=ax, color=color_list)\n",
    "\n",
    "# タイトル・軸ラベル\n",
    "ax.set_title(\"性別×年代別の売上集計(2022年)\", fontsize=14)\n",
    "ax.set_xlabel(\"年代\", fontsize=12)\n",
    "ax.set_ylabel(\"売上合計(TL)\", fontsize=12)\n",
    "\n",
    "# Y軸をカンマ区切りに\n",
    "ax.yaxis.set_major_formatter(mtick.FuncFormatter(lambda x, _: f\"{int(x):,}\"))\n",
    "\n",
    "ax.tick_params(axis=\"x\", rotation=0)\n",
    "\n",
    "# 凡例の日本語ラベル定義\n",
    "japanese_labels = [\"女性\", \"男性\"]\n",
    "#凡例を上書き\n",
    "ax.legend(labels=japanese_labels, title=\"性別\")\n",
    "\n",
    "# グラフ画像を保存して描画\n",
    "plt.tight_layout()\n",
    "plt.savefig(\"../output/01_gender_age_sales_2022.png\", dpi=300, bbox_inches=\"tight\")\n",
    "plt.show()"
   ]
  },
  {
   "cell_type": "markdown",
   "id": "743d4fe2",
   "metadata": {},
   "source": [
    "## 性別 × 年代別の売上集計（2022年）\n",
    "\n",
    "このセクションでは、2022年における性別（女性・男性）と年代（10代〜50代以上）ごとの売上傾向を集計・可視化した。\n",
    "\n",
    "- データ集計は `df_2022.groupby([\"gender\", \"age_group\"])[\"total_amount\"].sum()` により実施\n",
    "- 年代は 10歳刻み（例：20s, 30s）で分類\n",
    "- グラフは棒グラフ形式で可視化し、性別ごとに色分け（女性：淡いピンク、男性：スカイブルー）\n",
    "- 売上合計は y軸にカンマ区切りで表示し、凡例も日本語に変更\n",
    "\n",
    "###  考察メモ\n",
    "\n",
    "- **全ての年代において、男性よりも女性の方が明らかに売り上げが高い**\n",
    "- 10代の顧客による購買は少なく、20代以降はどの年代も大きな差異は見られない。\n",
    "\n",
    "###  保存ファイル\n",
    "- グラフ画像は `output/gender_age_sales_2022.png` に保存済み\n"
   ]
  },
  {
   "cell_type": "code",
   "execution_count": null,
   "id": "d816c350",
   "metadata": {},
   "outputs": [],
   "source": []
  }
 ],
 "metadata": {
  "kernelspec": {
   "display_name": "Python 3 (ipykernel)",
   "language": "python",
   "name": "python3"
  },
  "language_info": {
   "codemirror_mode": {
    "name": "ipython",
    "version": 3
   },
   "file_extension": ".py",
   "mimetype": "text/x-python",
   "name": "python",
   "nbconvert_exporter": "python",
   "pygments_lexer": "ipython3",
   "version": "3.9.7"
  }
 },
 "nbformat": 4,
 "nbformat_minor": 5
}
