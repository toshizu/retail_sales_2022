{
 "cells": [
  {
   "cell_type": "markdown",
   "id": "a4a33955",
   "metadata": {},
   "source": [
    "# 5. 既存の分析結果に基づいた深堀分析"
   ]
  },
  {
   "cell_type": "markdown",
   "id": "2af000b8",
   "metadata": {},
   "source": [
    "## 5.1 特定のカテゴリデータを抽出"
   ]
  },
  {
   "cell_type": "markdown",
   "id": "2b5640f7",
   "metadata": {},
   "source": [
    "### 5.1.1 データ読み込み"
   ]
  },
  {
   "cell_type": "code",
   "execution_count": 1,
   "id": "2b8dcc54",
   "metadata": {},
   "outputs": [],
   "source": [
    "import pandas as pd\n",
    "import matplotlib.pyplot as plt\n",
    "import matplotlib.font_manager as fm\n",
    "import japanize_matplotlib\n",
    "import matplotlib.ticker as mtick"
   ]
  },
  {
   "cell_type": "code",
   "execution_count": 2,
   "id": "220342e1",
   "metadata": {},
   "outputs": [],
   "source": [
    "# データ読み込み\n",
    "df = pd.read_csv(\"../data/customer_shopping_data_2022.csv\")\n",
    "\n",
    "# 「invoice_date」を日付型に変換\n",
    "df[\"invoice_date\"] = pd.to_datetime(df[\"invoice_date\"], errors=\"coerce\")"
   ]
  },
  {
   "cell_type": "markdown",
   "id": "a49d3129",
   "metadata": {},
   "source": [
    "### 5.1.2 「Clothing」「Shoes」「Technology」を抽出"
   ]
  },
  {
   "cell_type": "code",
   "execution_count": 3,
   "id": "22b77878",
   "metadata": {},
   "outputs": [
    {
     "data": {
      "text/html": [
       "<div>\n",
       "<style scoped>\n",
       "    .dataframe tbody tr th:only-of-type {\n",
       "        vertical-align: middle;\n",
       "    }\n",
       "\n",
       "    .dataframe tbody tr th {\n",
       "        vertical-align: top;\n",
       "    }\n",
       "\n",
       "    .dataframe thead th {\n",
       "        text-align: right;\n",
       "    }\n",
       "</style>\n",
       "<table border=\"1\" class=\"dataframe\">\n",
       "  <thead>\n",
       "    <tr style=\"text-align: right;\">\n",
       "      <th></th>\n",
       "      <th>invoice_no</th>\n",
       "      <th>customer_id</th>\n",
       "      <th>gender</th>\n",
       "      <th>age</th>\n",
       "      <th>category</th>\n",
       "      <th>quantity</th>\n",
       "      <th>price</th>\n",
       "      <th>payment_method</th>\n",
       "      <th>invoice_date</th>\n",
       "      <th>shopping_mall</th>\n",
       "      <th>total_amount</th>\n",
       "      <th>age_group</th>\n",
       "    </tr>\n",
       "  </thead>\n",
       "  <tbody>\n",
       "    <tr>\n",
       "      <th>0</th>\n",
       "      <td>I138884</td>\n",
       "      <td>C241288</td>\n",
       "      <td>Female</td>\n",
       "      <td>28</td>\n",
       "      <td>Clothing</td>\n",
       "      <td>5</td>\n",
       "      <td>1500.40</td>\n",
       "      <td>Credit Card</td>\n",
       "      <td>2022-05-08</td>\n",
       "      <td>Kanyon</td>\n",
       "      <td>7502.00</td>\n",
       "      <td>20s</td>\n",
       "    </tr>\n",
       "    <tr>\n",
       "      <th>1</th>\n",
       "      <td>I227836</td>\n",
       "      <td>C657758</td>\n",
       "      <td>Female</td>\n",
       "      <td>28</td>\n",
       "      <td>Clothing</td>\n",
       "      <td>5</td>\n",
       "      <td>1500.40</td>\n",
       "      <td>Credit Card</td>\n",
       "      <td>2022-05-24</td>\n",
       "      <td>Forum Istanbul</td>\n",
       "      <td>7502.00</td>\n",
       "      <td>20s</td>\n",
       "    </tr>\n",
       "    <tr>\n",
       "      <th>6</th>\n",
       "      <td>I179802</td>\n",
       "      <td>C312861</td>\n",
       "      <td>Male</td>\n",
       "      <td>25</td>\n",
       "      <td>Clothing</td>\n",
       "      <td>2</td>\n",
       "      <td>600.16</td>\n",
       "      <td>Cash</td>\n",
       "      <td>2022-11-17</td>\n",
       "      <td>Cevahir AVM</td>\n",
       "      <td>1200.32</td>\n",
       "      <td>20s</td>\n",
       "    </tr>\n",
       "    <tr>\n",
       "      <th>7</th>\n",
       "      <td>I336189</td>\n",
       "      <td>C555402</td>\n",
       "      <td>Female</td>\n",
       "      <td>67</td>\n",
       "      <td>Clothing</td>\n",
       "      <td>2</td>\n",
       "      <td>600.16</td>\n",
       "      <td>Credit Card</td>\n",
       "      <td>2022-03-06</td>\n",
       "      <td>Kanyon</td>\n",
       "      <td>1200.32</td>\n",
       "      <td>60s</td>\n",
       "    </tr>\n",
       "    <tr>\n",
       "      <th>9</th>\n",
       "      <td>I823067</td>\n",
       "      <td>C322947</td>\n",
       "      <td>Male</td>\n",
       "      <td>52</td>\n",
       "      <td>Clothing</td>\n",
       "      <td>2</td>\n",
       "      <td>600.16</td>\n",
       "      <td>Credit Card</td>\n",
       "      <td>2022-06-18</td>\n",
       "      <td>Cevahir AVM</td>\n",
       "      <td>1200.32</td>\n",
       "      <td>50s</td>\n",
       "    </tr>\n",
       "  </tbody>\n",
       "</table>\n",
       "</div>"
      ],
      "text/plain": [
       "  invoice_no customer_id  gender  age  category  quantity    price  \\\n",
       "0    I138884     C241288  Female   28  Clothing         5  1500.40   \n",
       "1    I227836     C657758  Female   28  Clothing         5  1500.40   \n",
       "6    I179802     C312861    Male   25  Clothing         2   600.16   \n",
       "7    I336189     C555402  Female   67  Clothing         2   600.16   \n",
       "9    I823067     C322947    Male   52  Clothing         2   600.16   \n",
       "\n",
       "  payment_method invoice_date   shopping_mall  total_amount age_group  \n",
       "0    Credit Card   2022-05-08          Kanyon       7502.00       20s  \n",
       "1    Credit Card   2022-05-24  Forum Istanbul       7502.00       20s  \n",
       "6           Cash   2022-11-17     Cevahir AVM       1200.32       20s  \n",
       "7    Credit Card   2022-03-06          Kanyon       1200.32       60s  \n",
       "9    Credit Card   2022-06-18     Cevahir AVM       1200.32       50s  "
      ]
     },
     "execution_count": 3,
     "metadata": {},
     "output_type": "execute_result"
    }
   ],
   "source": [
    "# 特に売上が高いカテゴリのデータを抽出\n",
    "df_filtered = df[df[\"category\"].isin([\"Clothing\", \"Shoes\", \"Technology\"])]\n",
    "# データ確認\n",
    "df_filtered.head()"
   ]
  },
  {
   "cell_type": "markdown",
   "id": "12b078a3",
   "metadata": {},
   "source": [
    "### 5.1.3 データ確認"
   ]
  },
  {
   "cell_type": "code",
   "execution_count": 4,
   "id": "b098edfe",
   "metadata": {},
   "outputs": [
    {
     "data": {
      "text/plain": [
       "array(['Clothing', 'Shoes', 'Technology'], dtype=object)"
      ]
     },
     "execution_count": 4,
     "metadata": {},
     "output_type": "execute_result"
    }
   ],
   "source": [
    "# 抽出できているか確認\n",
    "df_filtered[\"category\"].unique()"
   ]
  },
  {
   "cell_type": "code",
   "execution_count": 5,
   "id": "ecb24167",
   "metadata": {},
   "outputs": [
    {
     "data": {
      "text/plain": [
       "(22467, 12)"
      ]
     },
     "execution_count": 5,
     "metadata": {},
     "output_type": "execute_result"
    }
   ],
   "source": [
    "# データ構造確認\n",
    "df_filtered.shape"
   ]
  },
  {
   "cell_type": "markdown",
   "id": "17135dea",
   "metadata": {},
   "source": [
    "## 5.2 カテゴリ別に年代別、性別で集計"
   ]
  },
  {
   "cell_type": "markdown",
   "id": "b4b1cab9",
   "metadata": {},
   "source": [
    "### 5.2.1 年代ごとのカテゴリの売上高、取引件数を集計"
   ]
  },
  {
   "cell_type": "code",
   "execution_count": 10,
   "id": "61e1be5d",
   "metadata": {},
   "outputs": [],
   "source": [
    "# カテゴリ×年代で売上高と取引件数を集計\n",
    "sales_by_age = df_filtered.groupby([\"category\", \"age_group\"])[\"total_amount\"].sum().unstack()\n",
    "count_by_age = df_filtered.groupby([\"category\", \"age_group\"])[\"invoice_no\"].count().unstack()"
   ]
  },
  {
   "cell_type": "code",
   "execution_count": 12,
   "id": "dfa7e89f",
   "metadata": {},
   "outputs": [
    {
     "data": {
      "text/html": [
       "<div>\n",
       "<style scoped>\n",
       "    .dataframe tbody tr th:only-of-type {\n",
       "        vertical-align: middle;\n",
       "    }\n",
       "\n",
       "    .dataframe tbody tr th {\n",
       "        vertical-align: top;\n",
       "    }\n",
       "\n",
       "    .dataframe thead th {\n",
       "        text-align: right;\n",
       "    }\n",
       "</style>\n",
       "<table border=\"1\" class=\"dataframe\">\n",
       "  <thead>\n",
       "    <tr style=\"text-align: right;\">\n",
       "      <th>age_group</th>\n",
       "      <th>10s</th>\n",
       "      <th>20s</th>\n",
       "      <th>30s</th>\n",
       "      <th>40s</th>\n",
       "      <th>50s</th>\n",
       "      <th>60s</th>\n",
       "    </tr>\n",
       "    <tr>\n",
       "      <th>category</th>\n",
       "      <th></th>\n",
       "      <th></th>\n",
       "      <th></th>\n",
       "      <th></th>\n",
       "      <th></th>\n",
       "      <th></th>\n",
       "    </tr>\n",
       "  </thead>\n",
       "  <tbody>\n",
       "    <tr>\n",
       "      <th>Clothing</th>\n",
       "      <td>1946318.88</td>\n",
       "      <td>10137902.72</td>\n",
       "      <td>9707287.92</td>\n",
       "      <td>10154707.2</td>\n",
       "      <td>9891236.96</td>\n",
       "      <td>9916443.68</td>\n",
       "    </tr>\n",
       "    <tr>\n",
       "      <th>Shoes</th>\n",
       "      <td>1404397.80</td>\n",
       "      <td>5955486.91</td>\n",
       "      <td>5725021.63</td>\n",
       "      <td>6013703.4</td>\n",
       "      <td>6149941.99</td>\n",
       "      <td>5696213.47</td>\n",
       "    </tr>\n",
       "    <tr>\n",
       "      <th>Technology</th>\n",
       "      <td>788550.00</td>\n",
       "      <td>4889850.00</td>\n",
       "      <td>5527200.00</td>\n",
       "      <td>5554500.0</td>\n",
       "      <td>4748100.00</td>\n",
       "      <td>5142900.00</td>\n",
       "    </tr>\n",
       "  </tbody>\n",
       "</table>\n",
       "</div>"
      ],
      "text/plain": [
       "age_group          10s          20s         30s         40s         50s  \\\n",
       "category                                                                  \n",
       "Clothing    1946318.88  10137902.72  9707287.92  10154707.2  9891236.96   \n",
       "Shoes       1404397.80   5955486.91  5725021.63   6013703.4  6149941.99   \n",
       "Technology   788550.00   4889850.00  5527200.00   5554500.0  4748100.00   \n",
       "\n",
       "age_group          60s  \n",
       "category                \n",
       "Clothing    9916443.68  \n",
       "Shoes       5696213.47  \n",
       "Technology  5142900.00  "
      ]
     },
     "execution_count": 12,
     "metadata": {},
     "output_type": "execute_result"
    }
   ],
   "source": [
    "# 確認\n",
    "sales_by_age"
   ]
  },
  {
   "cell_type": "markdown",
   "id": "865ae885",
   "metadata": {},
   "source": [
    "### 5.2.2 性別ごとのカテゴリの売上高、取引件数を集計"
   ]
  },
  {
   "cell_type": "code",
   "execution_count": 13,
   "id": "8ec642d5",
   "metadata": {},
   "outputs": [],
   "source": [
    "# カテゴリ×性別で売上高と取引件数を集計\n",
    "sales_by_gender = df_filtered.groupby([\"category\", \"gender\"])[\"total_amount\"].sum().unstack()\n",
    "count_by_gender = df_filtered.groupby([\"category\", \"gender\"])[\"invoice_no\"].count().unstack()"
   ]
  },
  {
   "cell_type": "code",
   "execution_count": 14,
   "id": "77dd62b0",
   "metadata": {},
   "outputs": [
    {
     "data": {
      "text/html": [
       "<div>\n",
       "<style scoped>\n",
       "    .dataframe tbody tr th:only-of-type {\n",
       "        vertical-align: middle;\n",
       "    }\n",
       "\n",
       "    .dataframe tbody tr th {\n",
       "        vertical-align: top;\n",
       "    }\n",
       "\n",
       "    .dataframe thead th {\n",
       "        text-align: right;\n",
       "    }\n",
       "</style>\n",
       "<table border=\"1\" class=\"dataframe\">\n",
       "  <thead>\n",
       "    <tr style=\"text-align: right;\">\n",
       "      <th>gender</th>\n",
       "      <th>Female</th>\n",
       "      <th>Male</th>\n",
       "    </tr>\n",
       "    <tr>\n",
       "      <th>category</th>\n",
       "      <th></th>\n",
       "      <th></th>\n",
       "    </tr>\n",
       "  </thead>\n",
       "  <tbody>\n",
       "    <tr>\n",
       "      <th>Clothing</th>\n",
       "      <td>31157906.56</td>\n",
       "      <td>20595990.80</td>\n",
       "    </tr>\n",
       "    <tr>\n",
       "      <th>Shoes</th>\n",
       "      <td>18167746.07</td>\n",
       "      <td>12777019.13</td>\n",
       "    </tr>\n",
       "    <tr>\n",
       "      <th>Technology</th>\n",
       "      <td>16103850.00</td>\n",
       "      <td>10547250.00</td>\n",
       "    </tr>\n",
       "  </tbody>\n",
       "</table>\n",
       "</div>"
      ],
      "text/plain": [
       "gender           Female         Male\n",
       "category                            \n",
       "Clothing    31157906.56  20595990.80\n",
       "Shoes       18167746.07  12777019.13\n",
       "Technology  16103850.00  10547250.00"
      ]
     },
     "execution_count": 14,
     "metadata": {},
     "output_type": "execute_result"
    }
   ],
   "source": [
    "# データ確認\n",
    "sales_by_gender"
   ]
  },
  {
   "cell_type": "markdown",
   "id": "84cf5813",
   "metadata": {},
   "source": [
    "## 5.3 グラフによる可視化・画像を保存"
   ]
  },
  {
   "cell_type": "markdown",
   "id": "ab0858dd",
   "metadata": {},
   "source": [
    "### 5.3.1 年代別データ"
   ]
  },
  {
   "cell_type": "code",
   "execution_count": 24,
   "id": "48c7657a",
   "metadata": {},
   "outputs": [
    {
     "data": {
      "image/png": "[encoded data removed]",
      "text/plain": [
       "<Figure size 720x432 with 1 Axes>"
      ]
     },
     "metadata": {},
     "output_type": "display_data"
    },
    {
     "data": {
      "image/png": "[encoded data removed]",
      "text/plain": [
       "<Figure size 720x432 with 1 Axes>"
      ]
     },
     "metadata": {},
     "output_type": "display_data"
    }
   ],
   "source": [
    "# グラフによる可視化\n",
    "\n",
    "# 年代別\n",
    "# 年代別カラー（5色）\n",
    "age_colors = [\"#c6dbef\", \"#9ecae1\", \"#6baed6\", \"#3182bd\", \"#08519c\"]\n",
    "figsize = (10, 6)\n",
    "formatter = mtick.FuncFormatter(lambda x, _: f\"{int(x):,}\")\n",
    "\n",
    "age_plots = [\n",
    "    (\"sales_by_age\", \"カテゴリ × 年代別の売上合計（2022年）\", \"age_sales\"),\n",
    "    (\"count_by_age\", \"カテゴリ × 年代別の取引件数（2022年）\", \"age_count\"),\n",
    "]\n",
    "\n",
    "for i, (var_name, title, filename) in enumerate(age_plots, start=16):\n",
    "    df_plot = eval(var_name)\n",
    "\n",
    "    fig, ax = plt.subplots(figsize=figsize, facecolor=\"white\")\n",
    "    df_plot.columns = [\"10代\", \"20代\", \"30代\", \"40代\", \"50代\", \"60代以上\"]\n",
    "    df_plot.plot(kind=\"bar\", ax=ax, color=age_colors, width=0.9)\n",
    "\n",
    "    ax.set_title(title, fontsize=14)\n",
    "    ax.set_xlabel(\"カテゴリ\", fontsize=12)\n",
    "    ax.set_ylabel(\"合計売上（TL）\" if \"sales\" in filename else \"取引件数\", fontsize=12)\n",
    "    ax.yaxis.set_major_formatter(formatter)\n",
    "    ax.tick_params(axis=\"x\", rotation=0)\n",
    "\n",
    "    plt.tight_layout()\n",
    "    plt.show()\n",
    "\n",
    "    fig.savefig(f\"../output/{i:02d}_{filename}.png\", dpi=300, bbox_inches=\"tight\")"
   ]
  },
  {
   "cell_type": "markdown",
   "id": "12c33ce9",
   "metadata": {},
   "source": [
    "### 5.3.2 性別データ"
   ]
  },
  {
   "cell_type": "code",
   "execution_count": 25,
   "id": "244cf93f",
   "metadata": {},
   "outputs": [
    {
     "data": {
      "image/png": "[encoded data removed]",
      "text/plain": [
       "<Figure size 720x432 with 1 Axes>"
      ]
     },
     "metadata": {},
     "output_type": "display_data"
    },
    {
     "data": {
      "image/png": "[encoded data removed]",
      "text/plain": [
       "<Figure size 720x432 with 1 Axes>"
      ]
     },
     "metadata": {},
     "output_type": "display_data"
    }
   ],
   "source": [
    "# 性別\n",
    "gender_colors = [\"#f7c6c7\", \"#6ca0dc\"]\n",
    "\n",
    "gender_plots = [\n",
    "    (\"sales_by_gender\", \"カテゴリ × 性別別の売上合計（2022年）\", \"gender_sales\"),\n",
    "    (\"count_by_gender\", \"カテゴリ × 性別別の取引件数（2022年）\", \"gender_count\"),\n",
    "]\n",
    "\n",
    "for i, (var_name, title, filename) in enumerate(gender_plots, start=18):\n",
    "    df_plot = eval(var_name)\n",
    "\n",
    "    fig, ax = plt.subplots(figsize=figsize, facecolor=\"white\")\n",
    "    df_plot.columns = [\"女性\", \"男性\"]\n",
    "    df_plot.plot(kind=\"bar\", ax=ax, color=gender_colors)\n",
    "\n",
    "    ax.set_title(title, fontsize=14)\n",
    "    ax.set_xlabel(\"カテゴリ\", fontsize=12)\n",
    "    ax.set_ylabel(\"合計売上（TL）\" if \"sales\" in filename else \"取引件数\", fontsize=12)\n",
    "    ax.yaxis.set_major_formatter(formatter)\n",
    "    ax.tick_params(axis=\"x\", rotation=0)\n",
    "\n",
    "    plt.tight_layout()\n",
    "    plt.show()\n",
    "\n",
    "    fig.savefig(f\"../output/{i:02d}_{filename}.png\", dpi=300, bbox_inches=\"tight\")"
   ]
  },
  {
   "cell_type": "markdown",
   "id": "9c99f0bc",
   "metadata": {},
   "source": [
    "## 売上上位カテゴリに対する属性別深掘り分析（2022年）\n",
    "\n",
    "これまで、性別・年代・決済方法・モール・カテゴリ・時間軸など、さまざまな因子に基づく可視化・分析を実施してきた。  \n",
    "その結果、特に「カテゴリ」「モール」「性別」「年齢」といった変数において、明確な売上の偏りが見られる傾向が確認された。　\n",
    "また、「決済方法」にも偏りは存在したが、単なる選択肢のシェアの分布であると判断し、深堀り分析の対象からは除外した。\n",
    "\n",
    "モールに関しては、すでにカテゴリ別とのクロス集計を行った結果、売上上位のモールは特定カテゴリ（Clothing・Shoes・Technology）に売上が集中していることが影響していると判断された。  \n",
    "そこで今回は、これら3つのカテゴリに対象を絞り、**性別・年代と掛け合わせた深掘り分析**を実施することとした。\n",
    "\n",
    "### 考察メモ\n",
    "分析の結果、**一次元分析で把握していた傾向がカテゴリ単位でも一貫して確認される**という結果となった。  \n",
    "具体的には以下の通りである：\n",
    "\n",
    "- **年代別**：どのカテゴリにおいても、20代以上の購買が顕著に多く、その中での年代別の大きな差は見られなかった\n",
    "- **性別別**：いずれのカテゴリでも女性の購買が男性を上回っており、特にClothingカテゴリではその差が顕著である。\n",
    "\n",
    "これらの結果は、今後のマーケティング施策や販促戦略のターゲティングにおいて、カテゴリごとに属性を明確に意識すべきことを示唆している。\n",
    "\n",
    "### 保存ファイル\n",
    "- グラフ画像は`output/`ディレクトリにそれぞれ保存済み"
   ]
  },
  {
   "cell_type": "code",
   "execution_count": null,
   "id": "edbebf07",
   "metadata": {},
   "outputs": [],
   "source": []
  }
 ],
 "metadata": {
  "kernelspec": {
   "display_name": "Python 3 (ipykernel)",
   "language": "python",
   "name": "python3"
  },
  "language_info": {
   "codemirror_mode": {
    "name": "ipython",
    "version": 3
   },
   "file_extension": ".py",
   "mimetype": "text/x-python",
   "name": "python",
   "nbconvert_exporter": "python",
   "pygments_lexer": "ipython3",
   "version": "3.9.7"
  }
 },
 "nbformat": 4,
 "nbformat_minor": 5
}
